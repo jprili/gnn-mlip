{
 "cells": [
  {
   "cell_type": "code",
   "execution_count": 3,
   "id": "70782817-7869-43bc-a0b6-7174c2924262",
   "metadata": {},
   "outputs": [],
   "source": [
    "import os\n",
    "import os.path as path\n",
    "import csv\n",
    "import numpy as np"
   ]
  },
  {
   "cell_type": "code",
   "execution_count": 4,
   "id": "4a77bc0e-d431-46aa-afea-9e7e5c462201",
   "metadata": {},
   "outputs": [],
   "source": [
    "dataset_path = r\"./dat/data-set-2016-TiO2/\""
   ]
  },
  {
   "cell_type": "code",
   "execution_count": 9,
   "id": "0503bb45-5440-402c-84ca-6a51eed4a4b7",
   "metadata": {},
   "outputs": [
    {
     "name": "stdout",
     "output_type": "stream",
     "text": [
      "non-periodic file count: 7815\n"
     ]
    }
   ],
   "source": [
    "def check_periodics():\n",
    "    count = 0\n",
    "\n",
    "    # ripped and slightly modified from xsf_clean.py\n",
    "    for s_no in range(1, 7816):\n",
    "        file = path.join(\n",
    "            dataset_path,\n",
    "            f\"structure{str(s_no).zfill(4)}.xsf\"\n",
    "        )\n",
    "    \n",
    "        with open(file, \"r\") as f:\n",
    "            lines = f.readlines()\n",
    "            if \"PRIMVEC\\n\" in lines:\n",
    "                count += 1\n",
    "\n",
    "    print(f\"non-periodic file count: {count}\")\n",
    "\n",
    "check_periodics()"
   ]
  },
  {
   "cell_type": "code",
   "execution_count": 5,
   "id": "725f254a-61bd-4131-b4fd-547d5179dacb",
   "metadata": {},
   "outputs": [],
   "source": [
    "os.environ['TF_CPP_MIN_LOG_LEVEL'] = '3' \n",
    "# suppress tensorflow warnings\n",
    "import tensorflow as tf\n",
    "import keras\n",
    "\n",
    "from keras.models import Sequential \n",
    "from keras import Input\n",
    "from keras.layers import Dense, \\\n",
    "                         Dropout"
   ]
  },
  {
   "cell_type": "code",
   "execution_count": 6,
   "id": "f9ebabf1-b753-4598-a09d-04acb358579c",
   "metadata": {},
   "outputs": [],
   "source": [
    "class BPNN(keras.Model):\n",
    "    \"\"\"\n",
    "    The Model discussed in the 2007 paper by\n",
    "    Behler and Parinello.\n",
    "\n",
    "    This class contains an adaptive model which is\n",
    "    the subnet for one atom.\n",
    "\n",
    "    The subnet takes all the atom coordinates,\n",
    "    and outputs the atomic contribution of energy\n",
    "    \"\"\"\n",
    "    def __init__(self, layers: list, num_syms = 14):\n",
    "        super().__init__()\n",
    "\n",
    "        # properties of the subnet\n",
    "        self.subnet   = Sequential([\n",
    "            Input(shape = (num_syms,)),\n",
    "            *layers\n",
    "        ])\n",
    "        self.num_syms = num_syms\n",
    "\n",
    "    def call(self, inputs, training = False):\n",
    "        \"\"\"\n",
    "        Feed-forward algorithm for the model.\n",
    "        split each row and feed to the subnet\n",
    "        for each atom and applies to the same layers.\n",
    "        \"\"\"\n",
    "        # splits the rows\n",
    "        syms = tf.unstack(inputs, axis = 1)\n",
    "\n",
    "        sym_e_contribution = []\n",
    "        for sym in syms:\n",
    "            # feed to subnet\n",
    "            subnet_out = self.subnet(sym, training = training)\n",
    "            sym_e_contribution.append(subnet_out)\n",
    "\n",
    "        # turns the list into another tensor\n",
    "        sym_preproc = tf.stack(sym_e_contribution, axis = 1)\n",
    "\n",
    "        # add all the values in the tensor\n",
    "        return tf.reduce_sum(sym_preproc)"
   ]
  },
  {
   "cell_type": "code",
   "execution_count": 7,
   "id": "a9176b42-01c7-44f8-bdd2-64a285df1513",
   "metadata": {},
   "outputs": [],
   "source": [
    "import pandas as pd\n",
    "from sklearn.utils import shuffle\n",
    "\n",
    "N_SYSTEMS = 61\n",
    "\n",
    "# read all systems\n",
    "X = np.array(\n",
    "    [\n",
    "        pd.read_csv(\n",
    "            f\"./dat/symmetries/sym{str(idx).zfill(4)}.csv\"\n",
    "        ).to_numpy()\n",
    "        for idx in range(1, N_SYSTEMS + 1)\n",
    "    ]\n",
    ")\n",
    "\n",
    "# read energy file\n",
    "y = pd.read_csv(\n",
    "    \"./dat/energies.csv\"\n",
    ")[0:N_SYSTEMS]"
   ]
  },
  {
   "cell_type": "code",
   "execution_count": 6,
   "id": "d3d353f2-62d3-44b6-a391-7639da801d2f",
   "metadata": {},
   "outputs": [
    {
     "data": {
      "text/plain": [
       "array([95])"
      ]
     },
     "execution_count": 6,
     "metadata": {},
     "output_type": "execute_result"
    }
   ],
   "source": [
    "N_atoms = np.array([np.shape(x)[0] for x in X])\n",
    "np.unique(N_atoms)"
   ]
  },
  {
   "cell_type": "code",
   "execution_count": 8,
   "id": "17596dfd-cd21-463a-a7e2-287d4bef98e8",
   "metadata": {},
   "outputs": [
    {
     "name": "stdout",
     "output_type": "stream",
     "text": [
      "(61, 95, 14)\n"
     ]
    }
   ],
   "source": [
    "print(np.shape(X))\n",
    "X, y = shuffle(X, y)\n",
    "\n",
    "lo = int(0.6 * N_SYSTEMS)\n",
    "hi = int(0.8 * N_SYSTEMS)\n",
    "\n",
    "X_train = X[:lo]\n",
    "X_val   = X[lo:hi]\n",
    "X_test  = X[hi:]\n",
    "\n",
    "y_train = y[:lo]\n",
    "y_val   = y[lo:hi]\n",
    "y_test  = y[hi:]"
   ]
  },
  {
   "cell_type": "code",
   "execution_count": 26,
   "id": "1677e102-bd7d-4230-a5fc-e6029d43cbe7",
   "metadata": {},
   "outputs": [
    {
     "ename": "AttributeError",
     "evalue": "module 'keras.losses' has no attribute 'RootMeanSquaredError'",
     "output_type": "error",
     "traceback": [
      "\u001b[0;31m---------------------------------------------------------------------------\u001b[0m",
      "\u001b[0;31mAttributeError\u001b[0m                            Traceback (most recent call last)",
      "Cell \u001b[0;32mIn[26], line 8\u001b[0m\n\u001b[1;32m      1\u001b[0m model \u001b[38;5;241m=\u001b[39m BPNN([\n\u001b[1;32m      2\u001b[0m         Dense(\u001b[38;5;241m20\u001b[39m, activation \u001b[38;5;241m=\u001b[39m \u001b[38;5;124m\"\u001b[39m\u001b[38;5;124mrelu\u001b[39m\u001b[38;5;124m\"\u001b[39m),\n\u001b[1;32m      3\u001b[0m         Dense(\u001b[38;5;241m20\u001b[39m, activation \u001b[38;5;241m=\u001b[39m \u001b[38;5;124m\"\u001b[39m\u001b[38;5;124mrelu\u001b[39m\u001b[38;5;124m\"\u001b[39m)\n\u001b[1;32m      4\u001b[0m     ])\n\u001b[1;32m      6\u001b[0m model\u001b[38;5;241m.\u001b[39mcompile(\n\u001b[1;32m      7\u001b[0m     optimizer \u001b[38;5;241m=\u001b[39m keras\u001b[38;5;241m.\u001b[39moptimizers\u001b[38;5;241m.\u001b[39mRMSprop(),\n\u001b[0;32m----> 8\u001b[0m     loss \u001b[38;5;241m=\u001b[39m \u001b[43mkeras\u001b[49m\u001b[38;5;241;43m.\u001b[39;49m\u001b[43mlosses\u001b[49m\u001b[38;5;241;43m.\u001b[39;49m\u001b[43mRootMeanSquaredError\u001b[49m(),\n\u001b[1;32m      9\u001b[0m     metrics \u001b[38;5;241m=\u001b[39m [keras\u001b[38;5;241m.\u001b[39mmetrics\u001b[38;5;241m.\u001b[39mRootMeanSquaredError()]\n\u001b[1;32m     10\u001b[0m )\n",
      "\u001b[0;31mAttributeError\u001b[0m: module 'keras.losses' has no attribute 'RootMeanSquaredError'"
     ]
    }
   ],
   "source": [
    "model = BPNN([\n",
    "        Dense(20, activation = \"relu\"),\n",
    "        Dense(20, activation = \"relu\")\n",
    "    ])\n",
    "\n",
    "model.compile(\n",
    "    optimizer = keras.optimizers.RMSprop(),\n",
    "    loss = keras.losses.MeanAbsoluteError(),\n",
    "    metrics = [keras.metrics.RootMeanSquaredError()]\n",
    ")"
   ]
  },
  {
   "cell_type": "code",
   "execution_count": 25,
   "id": "77c18cef-4e1f-47ca-8b17-3b87b68886b3",
   "metadata": {},
   "outputs": [],
   "source": [
    "n_epochs = 60\n",
    "batch_sz = 2\n",
    "\n",
    "bpnn = model.fit(\n",
    "    X_train, y_train,\n",
    "    batch_size = batch_sz,\n",
    "    epochs = n_epochs,\n",
    "    validation_data = (X_val, y_val),\n",
    "    verbose = 0\n",
    ")"
   ]
  },
  {
   "cell_type": "code",
   "execution_count": 24,
   "id": "74e3076b",
   "metadata": {},
   "outputs": [
    {
     "ename": "NameError",
     "evalue": "name 'n_epochs' is not defined",
     "output_type": "error",
     "traceback": [
      "\u001b[0;31m---------------------------------------------------------------------------\u001b[0m",
      "\u001b[0;31mNameError\u001b[0m                                 Traceback (most recent call last)",
      "Cell \u001b[0;32mIn[24], line 3\u001b[0m\n\u001b[1;32m      1\u001b[0m \u001b[38;5;28;01mimport\u001b[39;00m \u001b[38;5;21;01mmatplotlib\u001b[39;00m\u001b[38;5;21;01m.\u001b[39;00m\u001b[38;5;21;01mpyplot\u001b[39;00m \u001b[38;5;28;01mas\u001b[39;00m \u001b[38;5;21;01mplt\u001b[39;00m\n\u001b[0;32m----> 3\u001b[0m xax \u001b[38;5;241m=\u001b[39m np\u001b[38;5;241m.\u001b[39marange(\u001b[38;5;241m1\u001b[39m, \u001b[43mn_epochs\u001b[49m \u001b[38;5;241m+\u001b[39m \u001b[38;5;241m1\u001b[39m)\n\u001b[1;32m      5\u001b[0m fig, ax \u001b[38;5;241m=\u001b[39m plt\u001b[38;5;241m.\u001b[39msubplots(nrows\u001b[38;5;241m=\u001b[39m \u001b[38;5;241m1\u001b[39m, ncols\u001b[38;5;241m=\u001b[39m\u001b[38;5;241m1\u001b[39m)\n\u001b[1;32m      6\u001b[0m ax\u001b[38;5;241m.\u001b[39mplot(bpnn\u001b[38;5;241m.\u001b[39mhistory[\u001b[38;5;124m\"\u001b[39m\u001b[38;5;124mroot_mean_squared_error\u001b[39m\u001b[38;5;124m\"\u001b[39m])\n",
      "\u001b[0;31mNameError\u001b[0m: name 'n_epochs' is not defined"
     ]
    }
   ],
   "source": [
    "import matplotlib.pyplot as plt\n",
    "\n",
    "xax = np.arange(1, n_epochs + 1)\n",
    "\n",
    "fig, ax = plt.subplots(nrows= 1, ncols=1)\n",
    "ax.plot(bpnn.history[\"root_mean_squared_error\"])\n",
    "ax.plot(bpnn.history[\"val_root_mean_squared_error\"])\n",
    "\n",
    "ax.plot(bpnn.history[\"loss\"])\n",
    "ax.plot(bpnn.history[\"val_loss\"])\n",
    "\n",
    "ax.set_yscale(\"log\")\n",
    "ax.set_xscale(\"log\")\n",
    "plt.show()\n"
   ]
  },
  {
   "cell_type": "code",
   "execution_count": 1,
   "id": "17f23596-8f51-4f1c-aa61-0de309847e2e",
   "metadata": {},
   "outputs": [],
   "source": [
    "from SymmetryCalculator import SymmetryCalculator"
   ]
  },
  {
   "cell_type": "code",
   "execution_count": 2,
   "id": "e70c6be4-393e-41b4-ac44-989c2b789888",
   "metadata": {},
   "outputs": [],
   "source": [
    "sym_calc = SymmetryCalculator()\n",
    "sym_calc.write_symmetries(r\"./dat/symmetries/\", 1)"
   ]
  }
 ],
 "metadata": {
  "kernelspec": {
   "display_name": "Python 3 (ipykernel)",
   "language": "python",
   "name": "python3"
  },
  "language_info": {
   "codemirror_mode": {
    "name": "ipython",
    "version": 3
   },
   "file_extension": ".py",
   "mimetype": "text/x-python",
   "name": "python",
   "nbconvert_exporter": "python",
   "pygments_lexer": "ipython3",
   "version": "3.12.2"
  }
 },
 "nbformat": 4,
 "nbformat_minor": 5
}
