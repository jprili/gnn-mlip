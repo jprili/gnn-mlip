{
 "cells": [
  {
   "cell_type": "code",
   "execution_count": null,
   "id": "70782817-7869-43bc-a0b6-7174c2924262",
   "metadata": {},
   "outputs": [],
   "source": [
    "import os\n",
    "import os.path as path\n",
    "import csv\n",
    "import numpy as np"
   ]
  },
  {
   "cell_type": "markdown",
   "id": "6cf3be68-055f-40bd-8df8-9d36e8531da4",
   "metadata": {},
   "source": [
    "# creating a readable dataset"
   ]
  },
  {
   "cell_type": "code",
   "execution_count": null,
   "id": "d6ae5cd0-43cc-4746-88fb-11cca4cdd69c",
   "metadata": {},
   "outputs": [],
   "source": [
    "def get_energy(dataset_path, s_no):\n",
    "    file = path.join(dataset_path, f\"structure{str(s_no).zfill(4)}.xsf\")\n",
    "    energy_value = 0.0\n",
    "    with open(file, \"r\") as f:\n",
    "        energy_value = float(f.readlines(1)[0].split(\" \")[4])\n",
    "\n",
    "    return energy_value\n",
    "\n",
    "def write_energies(target_path, energies):\n",
    "    full_path = path.join(target_path, r\"energies.csv\")\n",
    "    with open(full_path, \"w\") as f:\n",
    "        writer = csv.writer(f)\n",
    "        writer.writerow([\"energy_eV\"])\n",
    "        for energy in energies:\n",
    "            writer.writerow([energy])\n",
    "\n",
    "def create_targets():\n",
    "    dataset_path = r\"./dat/data-set-2016-TiO2\"\n",
    "    target_path  = r\"./dat/\"\n",
    "    \n",
    "    n_structures = 7815\n",
    "    energies = np.array([\n",
    "        get_energy(dataset_path, i) for i in range(1, n_structures + 1)\n",
    "    ])\n",
    "\n",
    "    write_energies(target_path, energies)"
   ]
  },
  {
   "cell_type": "code",
   "execution_count": null,
   "id": "b17650d5-b308-4ee8-bcf6-7d2e60239692",
   "metadata": {},
   "outputs": [],
   "source": [
    "create_targets()"
   ]
  },
  {
   "cell_type": "code",
   "execution_count": null,
   "id": "725f254a-61bd-4131-b4fd-547d5179dacb",
   "metadata": {},
   "outputs": [],
   "source": [
    "def get_positions(dataset_path, s_no):\n",
    "    file = path.join(dataset_path, f\"structure{str(s_no).zfill(4)}.xsf\")\n",
    "    energy_value = 0.0\n",
    "    with open(file, \"r\") as f:\n",
    "        energy_value = float(f.readlines(1)[0].split(\" \")[4])\n",
    "\n",
    "    return energy_value\n",
    "\n",
    "def write_energies(target_path, energies):\n",
    "    full_path = path.join(target_path, r\"energies.csv\")\n",
    "    with open(full_path, \"w\") as f:\n",
    "        writer = csv.writer(f)\n",
    "        writer.writerow([\"energy_eV\"])\n",
    "        for energy in energies:\n",
    "            writer.writerow([energy])\n",
    "\n",
    "def create_targets():\n",
    "    dataset_path = r\"./dat/data-set-2016-TiO2\"\n",
    "    target_path  = r\"./dat/\"\n",
    "    \n",
    "    n_structures = 7815\n",
    "    energies = np.array([\n",
    "        get_energy(dataset_path, i) for i in range(1, n_structures + 1)\n",
    "    ])\n",
    "\n",
    "    write_energies(target_path, energies)"
   ]
  }
 ],
 "metadata": {
  "kernelspec": {
   "display_name": "Python 3 (ipykernel)",
   "language": "python",
   "name": "python3"
  },
  "language_info": {
   "codemirror_mode": {
    "name": "ipython",
    "version": 3
   },
   "file_extension": ".py",
   "mimetype": "text/x-python",
   "name": "python",
   "nbconvert_exporter": "python",
   "pygments_lexer": "ipython3",
   "version": "3.12.2"
  }
 },
 "nbformat": 4,
 "nbformat_minor": 5
}
