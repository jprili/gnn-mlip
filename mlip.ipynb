{
 "cells": [
  {
   "cell_type": "code",
   "execution_count": 1,
   "id": "70782817-7869-43bc-a0b6-7174c2924262",
   "metadata": {},
   "outputs": [],
   "source": [
    "import os\n",
    "import os.path as path\n",
    "import csv\n",
    "import numpy as np"
   ]
  },
  {
   "cell_type": "code",
   "execution_count": 2,
   "id": "d6ae5cd0-43cc-4746-88fb-11cca4cdd69c",
   "metadata": {},
   "outputs": [],
   "source": [
    "rs = np.linspace(0.4, 3)\n",
    "es = 4 * (1/(rs**12) - 1/(rs**6))\n",
    "c  = 6 # Angstrom"
   ]
  },
  {
   "cell_type": "code",
   "execution_count": 3,
   "id": "b17650d5-b308-4ee8-bcf6-7d2e60239692",
   "metadata": {},
   "outputs": [],
   "source": [
    "def cut_off(r: float, c: float) -> float:\n",
    "    \"\"\"\n",
    "    radial cutoff function\n",
    "    \"\"\"\n",
    "    out = 0\n",
    "    if r <= c:\n",
    "        out = 0.5 * np.cos(np.pi * (r/c) + 1)\n",
    "\n",
    "    return out\n",
    "\n",
    "def g1(r: float, eta: float, r_s: float) -> float:\n",
    "    \"\"\"\n",
    "    symmetry function for two atoms, mu = 1\n",
    "    \"\"\"\n",
    "    return 2 * np.exp(-eta * (r - rs)**2) * cut_off(r, c)"
   ]
  },
  {
   "cell_type": "code",
   "execution_count": 4,
   "id": "725f254a-61bd-4131-b4fd-547d5179dacb",
   "metadata": {},
   "outputs": [],
   "source": [
    "os.environ['TF_CPP_MIN_LOG_LEVEL'] = '3' \n",
    "# suppress tensorflow warnings\n",
    "import tensorflow as tf\n",
    "import keras\n",
    "\n",
    "from keras.models import Sequential \n",
    "from keras import Input\n",
    "from keras.layers import Dense, \\\n",
    "                         Dropout"
   ]
  },
  {
   "cell_type": "code",
   "execution_count": null,
   "id": "f9ebabf1-b753-4598-a09d-04acb358579c",
   "metadata": {},
   "outputs": [],
   "source": [
    "def build_model():\n",
    "    return \n",
    "\n"
   ]
  }
 ],
 "metadata": {
  "kernelspec": {
   "display_name": "Python 3 (ipykernel)",
   "language": "python",
   "name": "python3"
  },
  "language_info": {
   "codemirror_mode": {
    "name": "ipython",
    "version": 3
   },
   "file_extension": ".py",
   "mimetype": "text/x-python",
   "name": "python",
   "nbconvert_exporter": "python",
   "pygments_lexer": "ipython3",
   "version": "3.12.2"
  }
 },
 "nbformat": 4,
 "nbformat_minor": 5
}
