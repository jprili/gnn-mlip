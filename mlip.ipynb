{
 "cells": [
  {
   "cell_type": "code",
   "execution_count": 2,
   "id": "70782817-7869-43bc-a0b6-7174c2924262",
   "metadata": {},
   "outputs": [],
   "source": [
    "import os\n",
    "import os.path as path\n",
    "import csv\n",
    "import numpy as np"
   ]
  },
  {
   "cell_type": "code",
   "execution_count": null,
   "id": "4a77bc0e-d431-46aa-afea-9e7e5c462201",
   "metadata": {},
   "outputs": [],
   "source": [
    "dataset_path = r\"./dat/data-set-2016-TiO2/\""
   ]
  },
  {
   "cell_type": "code",
   "execution_count": 9,
   "id": "0503bb45-5440-402c-84ca-6a51eed4a4b7",
   "metadata": {},
   "outputs": [
    {
     "name": "stdout",
     "output_type": "stream",
     "text": [
      "non-periodic file count: 7815\n"
     ]
    }
   ],
   "source": [
    "def check_periodics():\n",
    "    count = 0\n",
    "\n",
    "    # ripped and slightly modified from xsf_clean.py\n",
    "    for s_no in range(1, 7816):\n",
    "        file = path.join(\n",
    "            dataset_path,\n",
    "            f\"structure{str(s_no).zfill(4)}.xsf\"\n",
    "        )\n",
    "    \n",
    "        with open(file, \"r\") as f:\n",
    "            lines = f.readlines()\n",
    "            if \"PRIMVEC\\n\" in lines:\n",
    "                count += 1\n",
    "\n",
    "    print(f\"non-periodic file count: {count}\")\n",
    "\n",
    "check_periodics()"
   ]
  },
  {
   "cell_type": "code",
   "execution_count": 3,
   "id": "725f254a-61bd-4131-b4fd-547d5179dacb",
   "metadata": {},
   "outputs": [],
   "source": [
    "os.environ['TF_CPP_MIN_LOG_LEVEL'] = '3' \n",
    "# suppress tensorflow warnings\n",
    "import tensorflow as tf\n",
    "import keras\n",
    "\n",
    "from keras.models import Sequential \n",
    "from keras import Input\n",
    "from keras import layers\n",
    "from keras.layers import Dense, \\\n",
    "                         Dropout"
   ]
  },
  {
   "cell_type": "code",
   "execution_count": 4,
   "id": "f9ebabf1-b753-4598-a09d-04acb358579c",
   "metadata": {},
   "outputs": [],
   "source": [
    "class BPNN(keras.Model):\n",
    "    \"\"\"\n",
    "    The Model discussed in the 2007 paper by\n",
    "    Behler and Parinello.\n",
    "\n",
    "    This class contains an adaptive model which is\n",
    "    the subnet for one atom.\n",
    "\n",
    "    The subnet takes all the atom coordinates,\n",
    "    and outputs the atomic contribution of energy\n",
    "    \"\"\"\n",
    "    def __init__(self, ls: list, r_c, r_s, eta1, eta2, lbd, zeta):\n",
    "        super().__init__()\n",
    "\n",
    "        # properties of the subnet\n",
    "        self._input  = Input(shape = (2, ))\n",
    "        self.ls  = ls\n",
    "        self._output = Dense(1, activation = \"softmax\")\n",
    "        \n",
    "        self.r_c  = r_c   # angstrom\n",
    "        self.r_s  = r_s \n",
    "        self.eta1 = eta1\n",
    "        self.eta2 = eta2\n",
    "        self.lbd  = 1 if lbd == 1 else -1\n",
    "        self.zeta = zeta\n",
    "\n",
    "    def _norm(self, r):\n",
    "        \"\"\"\n",
    "        macro for 2-d norm\n",
    "        \"\"\"\n",
    "        return np.sqrt(np.dot(r, r))\n",
    "\n",
    "    def _cut_off(self, r: float) -> float:\n",
    "        \"\"\"\n",
    "        radial cutoff function\n",
    "        \"\"\"\n",
    "        out = 0\n",
    "        if r <= self.r_c:\n",
    "            out = 0.5 * np.cos(np.pi * (r/self.r_c) + 1)\n",
    "    \n",
    "        return out\n",
    "\n",
    "    def _trim_padding(self, inputs):\n",
    "        mask = tf.reduce_any(inputs != -99, axis=-1)\n",
    "        mask = tf.cast(mask, dtype=inputs.dtype)\n",
    "               \n",
    "        return inputs * tf.expand_dims(mask, axis=-1)\n",
    "\n",
    "    def call(self, inputs, training = False):\n",
    "        \"\"\"\n",
    "        Feed-forward algorithm for the model.\n",
    "        calculate the values of the symmetry functions\n",
    "        for each atom and applies to the same layers.\n",
    "        \"\"\"\n",
    "        \n",
    "        inputs = self._trim_padding(inputs)\n",
    "        e_curr = 0\n",
    "        g1s = self.get_g1is(inputs)\n",
    "        g2s = self.get_g2is(inputs)\n",
    "\n",
    "        for idx, in_vec in enumerate(zip(g1s, g2s)):\n",
    "            in_vec = np.array(in_vec)\n",
    "            x = self._input(in_vec)\n",
    "            \n",
    "            for layer in self.layers:\n",
    "                # dropout only applies on training\n",
    "                # for reqularisation\n",
    "                if isinstance(layer, Dropout):\n",
    "                    x = layer(x, training = training)\n",
    "                    \n",
    "                x = layer(x)\n",
    "\n",
    "            e_curr += self._output(x).output\n",
    "\n",
    "            # sum of all the atomic energy contributions\n",
    "            # non trainable (just a linear sum)\n",
    "            e_total = Dense(1, trainable = False)(e_curr)\n",
    "        return e_total"
   ]
  },
  {
   "cell_type": "code",
   "execution_count": 5,
   "id": "a9176b42-01c7-44f8-bdd2-64a285df1513",
   "metadata": {},
   "outputs": [],
   "source": [
    "import pandas as pd\n",
    "from sklearn.utils import shuffle\n",
    "\n",
    "N_SYSTEMS = 7815\n",
    "\n",
    "# read all systems\n",
    "X = np.array(\n",
    "    [\n",
    "        pd.read_csv(\n",
    "            f\"./dat/positions/pos_{str(idx).zfill(4)}.csv\"\n",
    "        ).to_numpy()\n",
    "        for idx in range(1, N_SYSTEMS + 1)\n",
    "    ]\n",
    ")\n",
    "\n",
    "# read energy file\n",
    "y = pd.read_csv(\n",
    "    \"./dat/energies.csv\"\n",
    ")"
   ]
  },
  {
   "cell_type": "code",
   "execution_count": 6,
   "id": "d3d353f2-62d3-44b6-a391-7639da801d2f",
   "metadata": {},
   "outputs": [
    {
     "data": {
      "text/plain": [
       "array([95])"
      ]
     },
     "execution_count": 6,
     "metadata": {},
     "output_type": "execute_result"
    }
   ],
   "source": [
    "N_atoms = np.array([np.shape(x)[0] for x in X])\n",
    "np.unique(N_atoms)"
   ]
  },
  {
   "cell_type": "code",
   "execution_count": 7,
   "id": "17596dfd-cd21-463a-a7e2-287d4bef98e8",
   "metadata": {},
   "outputs": [],
   "source": [
    "X, y = shuffle(X, y)\n",
    "\n",
    "lo = int(0.6 * N_SYSTEMS)\n",
    "hi = int(0.8 * N_SYSTEMS)\n",
    "\n",
    "X_train = X[:lo]\n",
    "X_val   = X[lo:hi]\n",
    "X_test  = X[hi:]\n",
    "\n",
    "y_train = y[:lo]\n",
    "y_val   = y[lo:hi]\n",
    "y_test  = y[hi:]"
   ]
  },
  {
   "cell_type": "code",
   "execution_count": 8,
   "id": "1677e102-bd7d-4230-a5fc-e6029d43cbe7",
   "metadata": {},
   "outputs": [],
   "source": [
    "model = BPNN([\n",
    "        Dense(3, activation = \"relu\"),\n",
    "        Dense(3, activation = \"relu\")\n",
    "    ],\n",
    "    r_c = 6, r_s = 0,\n",
    "    eta1 = 0.003214, \n",
    "    eta2 = 0.00357, \n",
    "    lbd = -1, zeta = 1)\n",
    "\n",
    "model.compile(\n",
    "    optimizer = keras.optimizers.Adam(learning_rate = 0.001),\n",
    "    loss = keras.losses.MeanSquaredError()\n",
    ")"
   ]
  },
  {
   "cell_type": "code",
   "execution_count": null,
   "id": "77c18cef-4e1f-47ca-8b17-3b87b68886b3",
   "metadata": {},
   "outputs": [],
   "source": [
    "bpnn = model.fit(\n",
    "    X_train, y_train,\n",
    "    batch_size = 300,\n",
    "    epochs = 100,\n",
    "    validation_data = (X_val, y_val),\n",
    "    verbose = 0\n",
    ")"
   ]
  },
  {
   "cell_type": "code",
   "execution_count": 1,
   "id": "17f23596-8f51-4f1c-aa61-0de309847e2e",
   "metadata": {},
   "outputs": [],
   "source": [
    "from SymmetryCalculator import SymmetryCalculator"
   ]
  },
  {
   "cell_type": "code",
   "execution_count": 2,
   "id": "e70c6be4-393e-41b4-ac44-989c2b789888",
   "metadata": {},
   "outputs": [],
   "source": [
    "sym_calc = SymmetryCalculator()\n",
    "sym_calc.write_symmetries(r\"./dat/symmetries/\", 1)"
   ]
  }
 ],
 "metadata": {
  "kernelspec": {
   "display_name": "Python 3 (ipykernel)",
   "language": "python",
   "name": "python3"
  },
  "language_info": {
   "codemirror_mode": {
    "name": "ipython",
    "version": 3
   },
   "file_extension": ".py",
   "mimetype": "text/x-python",
   "name": "python",
   "nbconvert_exporter": "python",
   "pygments_lexer": "ipython3",
   "version": "3.12.2"
  }
 },
 "nbformat": 4,
 "nbformat_minor": 5
}
