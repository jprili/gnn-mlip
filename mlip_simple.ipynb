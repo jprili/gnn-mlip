{
 "cells": [
  {
   "cell_type": "code",
   "execution_count": null,
   "id": "3fb86957-cb84-40d8-b628-be464b69c407",
   "metadata": {},
   "outputs": [],
   "source": [
    "import numpy as np\n",
    "import matplotlib.pyplot as plt"
   ]
  },
  {
   "cell_type": "code",
   "execution_count": null,
   "id": "8c4b1c8e-f7b1-4e98-8263-12f7dc2b1567",
   "metadata": {},
   "outputs": [],
   "source": [
    "def get_lj_pot(r_ij, sigma, eps):\n",
    "    t = (sigma / r_ij)\n",
    "    return 4 * eps * (t**12 - t**6)\n",
    "\n",
    "def _cut_off(r, r_c) -> float:\n",
    "    \"\"\"\n",
    "    radial cutoff function\n",
    "    \"\"\"\n",
    "    out = 0\n",
    "    if r <= r_c:\n",
    "        out = 0.5 * np.cos(np.pi * (r/r_c) + 1)\n",
    "\n",
    "    return out\n",
    "\n",
    "def get_g1i(r_ij, eta1, r_s):\n",
    "    \"\"\"\n",
    "    symmetry function for two atoms, mu = 1\n",
    "    \"\"\"\n",
    "    g1i_ptl = 0\n",
    "    for r_j in r:\n",
    "        # equation 4 in Behler, Parinello (2007)\n",
    "        g1i_ptl += np.exp(-eta1 * (r_ij - r_s)**2) \\\n",
    "                 * self._cut_off(r_ij)\n",
    "        \n",
    "    return 2 * g1i_ptl"
   ]
  },
  {
   "cell_type": "code",
   "execution_count": null,
   "id": "ab8ff182-d6d3-480f-98ba-e57506bef324",
   "metadata": {},
   "outputs": [],
   "source": [
    "rs = np.linspace(1, 4)\n",
    "targets = get_lj_pot(rs, 1, 1)"
   ]
  },
  {
   "cell_type": "code",
   "execution_count": null,
   "id": "f0dc4288-0d39-409c-afde-296fadb0c632",
   "metadata": {},
   "outputs": [],
   "source": [
    "from sklearn.neural_network import MLPRegressor"
   ]
  }
 ],
 "metadata": {
  "kernelspec": {
   "display_name": "Python 3 (ipykernel)",
   "language": "python",
   "name": "python3"
  },
  "language_info": {
   "codemirror_mode": {
    "name": "ipython",
    "version": 3
   },
   "file_extension": ".py",
   "mimetype": "text/x-python",
   "name": "python",
   "nbconvert_exporter": "python",
   "pygments_lexer": "ipython3",
   "version": "3.12.2"
  }
 },
 "nbformat": 4,
 "nbformat_minor": 5
}
